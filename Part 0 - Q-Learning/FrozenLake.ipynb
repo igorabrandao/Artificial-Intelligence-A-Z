{
 "cells": [
  {
   "cell_type": "markdown",
   "id": "3a5d3e15",
   "metadata": {},
   "source": [
    "# Frozen Lake\n",
    "\n",
    "FrozenLake is an environment from the openai gym toolkit.\n",
    "\n",
    "The first step to create the game is to import the Gym library and create the environment. The code below shows how to do it:"
   ]
  },
  {
   "cell_type": "code",
   "execution_count": 23,
   "id": "cb57ca14",
   "metadata": {},
   "outputs": [],
   "source": [
    "import gym # loading the Gym library\n",
    "import numpy as np"
   ]
  },
  {
   "cell_type": "markdown",
   "id": "c5359acc",
   "metadata": {},
   "source": [
    "## Load the environment"
   ]
  },
  {
   "cell_type": "code",
   "execution_count": 53,
   "id": "543d73ad",
   "metadata": {},
   "outputs": [],
   "source": [
    "# Creates the method gym.make() to create the Frozen Lake environment\n",
    "gym.make('FrozenLake-v1', desc=None, map_name=\"4x4\", is_slippery=False)\n",
    "\n",
    "# Put it on its initial state\n",
    "env.reset()\n",
    "\n",
    "# Print the state\n",
    "env.render()"
   ]
  },
  {
   "cell_type": "code",
   "execution_count": 54,
   "id": "5bb91e36",
   "metadata": {},
   "outputs": [
    {
     "name": "stdout",
     "output_type": "stream",
     "text": [
      "Action space:  Discrete(4)\n",
      "Observation space:  Discrete(16)\n"
     ]
    }
   ],
   "source": [
    "print(\"Action space: \", env.action_space)\n",
    "print(\"Observation space: \", env.observation_space)"
   ]
  },
  {
   "cell_type": "code",
   "execution_count": null,
   "id": "1b762e58",
   "metadata": {},
   "outputs": [],
   "source": []
  }
 ],
 "metadata": {
  "kernelspec": {
   "display_name": "Python 3 (ipykernel)",
   "language": "python",
   "name": "python3"
  },
  "language_info": {
   "codemirror_mode": {
    "name": "ipython",
    "version": 3
   },
   "file_extension": ".py",
   "mimetype": "text/x-python",
   "name": "python",
   "nbconvert_exporter": "python",
   "pygments_lexer": "ipython3",
   "version": "3.9.12"
  }
 },
 "nbformat": 4,
 "nbformat_minor": 5
}
